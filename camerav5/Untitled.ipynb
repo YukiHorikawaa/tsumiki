{
 "cells": [
  {
   "cell_type": "code",
   "execution_count": 1,
   "metadata": {},
   "outputs": [
    {
     "name": "stdout",
     "output_type": "stream",
     "text": [
      "Collecting numpy\n",
      "  Downloading numpy-1.19.1-cp37-cp37m-macosx_10_9_x86_64.whl (15.3 MB)\n",
      "\u001b[K     |████████████████████████████████| 15.3 MB 968 kB/s eta 0:00:01\n",
      "\u001b[?25hInstalling collected packages: numpy\n",
      "Successfully installed numpy-1.19.1\n",
      "Note: you may need to restart the kernel to use updated packages.\n"
     ]
    }
   ],
   "source": [
    "pip install numpy"
   ]
  },
  {
   "cell_type": "code",
   "execution_count": 2,
   "metadata": {},
   "outputs": [
    {
     "name": "stdout",
     "output_type": "stream",
     "text": [
      "Requirement already satisfied: numpy in /Users/yukihorikawa/anaconda3/envs/web/lib/python3.7/site-packages (1.19.1)\n",
      "Note: you may need to restart the kernel to use updated packages.\n"
     ]
    }
   ],
   "source": [
    "pip install numpy"
   ]
  },
  {
   "cell_type": "code",
   "execution_count": 3,
   "metadata": {},
   "outputs": [
    {
     "name": "stdout",
     "output_type": "stream",
     "text": [
      "Collecting tensorflow\n",
      "  Downloading tensorflow-2.3.0-cp37-cp37m-macosx_10_11_x86_64.whl (165.1 MB)\n",
      "\u001b[K     |████████████████████████████████| 165.1 MB 155 kB/s eta 0:00:013\n",
      "\u001b[?25hCollecting google-pasta>=0.1.8\n",
      "  Using cached google_pasta-0.2.0-py3-none-any.whl (57 kB)\n",
      "Requirement already satisfied: six>=1.12.0 in /Users/yukihorikawa/anaconda3/envs/web/lib/python3.7/site-packages (from tensorflow) (1.15.0)\n",
      "Collecting numpy<1.19.0,>=1.16.0\n",
      "  Downloading numpy-1.18.5-cp37-cp37m-macosx_10_9_x86_64.whl (15.1 MB)\n",
      "\u001b[K     |████████████████████████████████| 15.1 MB 11.9 MB/s eta 0:00:01\n",
      "\u001b[?25hCollecting protobuf>=3.9.2\n",
      "  Downloading protobuf-3.12.4-cp37-cp37m-macosx_10_9_x86_64.whl (1.3 MB)\n",
      "\u001b[K     |████████████████████████████████| 1.3 MB 27.1 MB/s eta 0:00:01\n",
      "\u001b[?25hCollecting grpcio>=1.8.6\n",
      "  Downloading grpcio-1.31.0-cp37-cp37m-macosx_10_9_x86_64.whl (3.0 MB)\n",
      "\u001b[K     |████████████████████████████████| 3.0 MB 23.6 MB/s eta 0:00:01\n",
      "\u001b[?25hProcessing /Users/yukihorikawa/Library/Caches/pip/wheels/cc/af/1a/498a24d0730ef484019e007bb9e8cef3ac00311a672c049a3e/absl_py-0.9.0-py3-none-any.whl\n",
      "Collecting astunparse==1.6.3\n",
      "  Using cached astunparse-1.6.3-py2.py3-none-any.whl (12 kB)\n",
      "Collecting tensorflow-estimator<2.4.0,>=2.3.0\n",
      "  Downloading tensorflow_estimator-2.3.0-py2.py3-none-any.whl (459 kB)\n",
      "\u001b[K     |████████████████████████████████| 459 kB 36.9 MB/s eta 0:00:01\n",
      "\u001b[?25hRequirement already satisfied: wrapt>=1.11.1 in /Users/yukihorikawa/anaconda3/envs/web/lib/python3.7/site-packages (from tensorflow) (1.12.1)\n",
      "Collecting h5py<2.11.0,>=2.10.0\n",
      "  Using cached h5py-2.10.0-cp37-cp37m-macosx_10_6_intel.whl (3.0 MB)\n",
      "Collecting scipy==1.4.1\n",
      "  Using cached scipy-1.4.1-cp37-cp37m-macosx_10_6_intel.whl (28.4 MB)\n",
      "Processing /Users/yukihorikawa/Library/Caches/pip/wheels/3f/e3/ec/8a8336ff196023622fbcb36de0c5a5c218cbb24111d1d4c7f2/termcolor-1.1.0-py3-none-any.whl\n",
      "Collecting tensorboard<3,>=2.3.0\n",
      "  Using cached tensorboard-2.3.0-py3-none-any.whl (6.8 MB)\n",
      "Requirement already satisfied: wheel>=0.26 in /Users/yukihorikawa/anaconda3/envs/web/lib/python3.7/site-packages (from tensorflow) (0.34.2)\n",
      "Collecting gast==0.3.3\n",
      "  Using cached gast-0.3.3-py2.py3-none-any.whl (9.7 kB)\n",
      "Collecting keras-preprocessing<1.2,>=1.1.1\n",
      "  Using cached Keras_Preprocessing-1.1.2-py2.py3-none-any.whl (42 kB)\n",
      "Collecting opt-einsum>=2.3.2\n",
      "  Downloading opt_einsum-3.3.0-py3-none-any.whl (65 kB)\n",
      "\u001b[K     |████████████████████████████████| 65 kB 6.6 MB/s eta 0:00:011\n",
      "\u001b[?25hRequirement already satisfied: setuptools in /Users/yukihorikawa/anaconda3/envs/web/lib/python3.7/site-packages (from protobuf>=3.9.2->tensorflow) (49.2.0.post20200714)\n",
      "Collecting werkzeug>=0.11.15\n",
      "  Using cached Werkzeug-1.0.1-py2.py3-none-any.whl (298 kB)\n",
      "Collecting google-auth-oauthlib<0.5,>=0.4.1\n",
      "  Using cached google_auth_oauthlib-0.4.1-py2.py3-none-any.whl (18 kB)\n",
      "Collecting tensorboard-plugin-wit>=1.6.0\n",
      "  Downloading tensorboard_plugin_wit-1.7.0-py3-none-any.whl (779 kB)\n",
      "\u001b[K     |████████████████████████████████| 779 kB 25.0 MB/s eta 0:00:01\n",
      "\u001b[?25hCollecting requests<3,>=2.21.0\n",
      "  Downloading requests-2.24.0-py2.py3-none-any.whl (61 kB)\n",
      "\u001b[K     |████████████████████████████████| 61 kB 1.6 MB/s  eta 0:00:01\n",
      "\u001b[?25hCollecting google-auth<2,>=1.6.3\n",
      "  Downloading google_auth-1.20.0-py2.py3-none-any.whl (91 kB)\n",
      "\u001b[K     |████████████████████████████████| 91 kB 12.5 MB/s eta 0:00:01\n",
      "\u001b[?25hCollecting markdown>=2.6.8\n",
      "  Using cached Markdown-3.2.2-py3-none-any.whl (88 kB)\n",
      "Collecting requests-oauthlib>=0.7.0\n",
      "  Using cached requests_oauthlib-1.3.0-py2.py3-none-any.whl (23 kB)\n",
      "Collecting chardet<4,>=3.0.2\n",
      "  Using cached chardet-3.0.4-py2.py3-none-any.whl (133 kB)\n",
      "Collecting urllib3!=1.25.0,!=1.25.1,<1.26,>=1.21.1\n",
      "  Downloading urllib3-1.25.10-py2.py3-none-any.whl (127 kB)\n",
      "\u001b[K     |████████████████████████████████| 127 kB 43.1 MB/s eta 0:00:01\n",
      "\u001b[?25hRequirement already satisfied: certifi>=2017.4.17 in /Users/yukihorikawa/anaconda3/envs/web/lib/python3.7/site-packages (from requests<3,>=2.21.0->tensorboard<3,>=2.3.0->tensorflow) (2020.6.20)\n",
      "Collecting idna<3,>=2.5\n",
      "  Downloading idna-2.10-py2.py3-none-any.whl (58 kB)\n",
      "\u001b[K     |████████████████████████████████| 58 kB 13.2 MB/s eta 0:00:01\n",
      "\u001b[?25hCollecting rsa<5,>=3.1.4; python_version >= \"3.5\"\n",
      "  Downloading rsa-4.6-py3-none-any.whl (47 kB)\n",
      "\u001b[K     |████████████████████████████████| 47 kB 7.7 MB/s  eta 0:00:01\n",
      "\u001b[?25hCollecting pyasn1-modules>=0.2.1\n",
      "  Using cached pyasn1_modules-0.2.8-py2.py3-none-any.whl (155 kB)\n",
      "Collecting cachetools<5.0,>=2.0.0\n",
      "  Downloading cachetools-4.1.1-py3-none-any.whl (10 kB)\n",
      "Requirement already satisfied: importlib-metadata; python_version < \"3.8\" in /Users/yukihorikawa/anaconda3/envs/web/lib/python3.7/site-packages (from markdown>=2.6.8->tensorboard<3,>=2.3.0->tensorflow) (1.7.0)\n",
      "Collecting oauthlib>=3.0.0\n",
      "  Using cached oauthlib-3.1.0-py2.py3-none-any.whl (147 kB)\n",
      "Collecting pyasn1>=0.1.3\n",
      "  Using cached pyasn1-0.4.8-py2.py3-none-any.whl (77 kB)\n",
      "Requirement already satisfied: zipp>=0.5 in /Users/yukihorikawa/anaconda3/envs/web/lib/python3.7/site-packages (from importlib-metadata; python_version < \"3.8\"->markdown>=2.6.8->tensorboard<3,>=2.3.0->tensorflow) (3.1.0)\n",
      "Installing collected packages: google-pasta, numpy, protobuf, grpcio, absl-py, astunparse, tensorflow-estimator, h5py, scipy, termcolor, werkzeug, pyasn1, rsa, pyasn1-modules, cachetools, google-auth, chardet, urllib3, idna, requests, oauthlib, requests-oauthlib, google-auth-oauthlib, tensorboard-plugin-wit, markdown, tensorboard, gast, keras-preprocessing, opt-einsum, tensorflow\n",
      "  Attempting uninstall: numpy\n",
      "    Found existing installation: numpy 1.19.1\n",
      "    Uninstalling numpy-1.19.1:\n",
      "      Successfully uninstalled numpy-1.19.1\n",
      "Successfully installed absl-py-0.9.0 astunparse-1.6.3 cachetools-4.1.1 chardet-3.0.4 gast-0.3.3 google-auth-1.20.0 google-auth-oauthlib-0.4.1 google-pasta-0.2.0 grpcio-1.31.0 h5py-2.10.0 idna-2.10 keras-preprocessing-1.1.2 markdown-3.2.2 numpy-1.18.5 oauthlib-3.1.0 opt-einsum-3.3.0 protobuf-3.12.4 pyasn1-0.4.8 pyasn1-modules-0.2.8 requests-2.24.0 requests-oauthlib-1.3.0 rsa-4.6 scipy-1.4.1 tensorboard-2.3.0 tensorboard-plugin-wit-1.7.0 tensorflow-2.3.0 tensorflow-estimator-2.3.0 termcolor-1.1.0 urllib3-1.25.10 werkzeug-1.0.1\n",
      "Note: you may need to restart the kernel to use updated packages.\n"
     ]
    }
   ],
   "source": [
    "pip install tensorflow"
   ]
  },
  {
   "cell_type": "code",
   "execution_count": 4,
   "metadata": {},
   "outputs": [
    {
     "name": "stdout",
     "output_type": "stream",
     "text": [
      "Collecting keras\n",
      "  Downloading Keras-2.4.3-py2.py3-none-any.whl (36 kB)\n",
      "Processing /Users/yukihorikawa/Library/Caches/pip/wheels/5e/03/1e/e1e954795d6f35dfc7b637fe2277bff021303bd9570ecea653/PyYAML-5.3.1-cp37-cp37m-macosx_10_9_x86_64.whl\n",
      "Requirement already satisfied: scipy>=0.14 in /Users/yukihorikawa/anaconda3/envs/web/lib/python3.7/site-packages (from keras) (1.4.1)\n",
      "Requirement already satisfied: h5py in /Users/yukihorikawa/anaconda3/envs/web/lib/python3.7/site-packages (from keras) (2.10.0)\n",
      "Requirement already satisfied: numpy>=1.9.1 in /Users/yukihorikawa/anaconda3/envs/web/lib/python3.7/site-packages (from keras) (1.18.5)\n",
      "Requirement already satisfied: six in /Users/yukihorikawa/anaconda3/envs/web/lib/python3.7/site-packages (from h5py->keras) (1.15.0)\n",
      "Installing collected packages: pyyaml, keras\n",
      "Successfully installed keras-2.4.3 pyyaml-5.3.1\n",
      "Note: you may need to restart the kernel to use updated packages.\n"
     ]
    }
   ],
   "source": [
    "pip install keras"
   ]
  },
  {
   "cell_type": "code",
   "execution_count": 5,
   "metadata": {},
   "outputs": [
    {
     "name": "stdout",
     "output_type": "stream",
     "text": [
      "Collecting Flask\n",
      "  Using cached Flask-1.1.2-py2.py3-none-any.whl (94 kB)\n",
      "Collecting itsdangerous>=0.24\n",
      "  Using cached itsdangerous-1.1.0-py2.py3-none-any.whl (16 kB)\n",
      "Requirement already satisfied: Werkzeug>=0.15 in /Users/yukihorikawa/anaconda3/envs/web/lib/python3.7/site-packages (from Flask) (1.0.1)\n",
      "Collecting click>=5.1\n",
      "  Using cached click-7.1.2-py2.py3-none-any.whl (82 kB)\n",
      "Requirement already satisfied: Jinja2>=2.10.1 in /Users/yukihorikawa/anaconda3/envs/web/lib/python3.7/site-packages (from Flask) (2.11.2)\n",
      "Requirement already satisfied: MarkupSafe>=0.23 in /Users/yukihorikawa/anaconda3/envs/web/lib/python3.7/site-packages (from Jinja2>=2.10.1->Flask) (1.1.1)\n",
      "Installing collected packages: itsdangerous, click, Flask\n",
      "Successfully installed Flask-1.1.2 click-7.1.2 itsdangerous-1.1.0\n",
      "Note: you may need to restart the kernel to use updated packages.\n"
     ]
    }
   ],
   "source": [
    "pip install Flask"
   ]
  },
  {
   "cell_type": "code",
   "execution_count": 6,
   "metadata": {},
   "outputs": [
    {
     "name": "stdout",
     "output_type": "stream",
     "text": [
      "Collecting opencv-python\n",
      "  Downloading opencv_python-4.3.0.36-cp37-cp37m-macosx_10_9_x86_64.whl (52.6 MB)\n",
      "\u001b[K     |████████████████████████████████| 52.6 MB 722 kB/s eta 0:00:012\n",
      "\u001b[?25hRequirement already satisfied: numpy>=1.14.5 in /Users/yukihorikawa/anaconda3/envs/web/lib/python3.7/site-packages (from opencv-python) (1.18.5)\n",
      "Installing collected packages: opencv-python\n",
      "Successfully installed opencv-python-4.3.0.36\n",
      "Note: you may need to restart the kernel to use updated packages.\n"
     ]
    }
   ],
   "source": [
    "pip install opencv-python"
   ]
  },
  {
   "cell_type": "code",
   "execution_count": 7,
   "metadata": {},
   "outputs": [
    {
     "name": "stdout",
     "output_type": "stream",
     "text": [
      "Collecting Pillow\n",
      "  Downloading Pillow-7.2.0-cp37-cp37m-macosx_10_10_x86_64.whl (2.2 MB)\n",
      "\u001b[K     |████████████████████████████████| 2.2 MB 1.8 MB/s eta 0:00:01\n",
      "\u001b[?25hInstalling collected packages: Pillow\n",
      "Successfully installed Pillow-7.2.0\n",
      "Note: you may need to restart the kernel to use updated packages.\n"
     ]
    }
   ],
   "source": [
    "pip install Pillow"
   ]
  },
  {
   "cell_type": "code",
   "execution_count": 8,
   "metadata": {},
   "outputs": [
    {
     "name": "stdout",
     "output_type": "stream",
     "text": [
      "Collecting matplotlib\n",
      "  Downloading matplotlib-3.3.0-1-cp37-cp37m-macosx_10_9_x86_64.whl (11.4 MB)\n",
      "\u001b[K     |████████████████████████████████| 11.4 MB 7.4 MB/s eta 0:00:01\n",
      "\u001b[?25hRequirement already satisfied: pillow>=6.2.0 in /Users/yukihorikawa/anaconda3/envs/web/lib/python3.7/site-packages (from matplotlib) (7.2.0)\n",
      "Collecting kiwisolver>=1.0.1\n",
      "  Using cached kiwisolver-1.2.0-cp37-cp37m-macosx_10_9_x86_64.whl (60 kB)\n",
      "Requirement already satisfied: python-dateutil>=2.1 in /Users/yukihorikawa/anaconda3/envs/web/lib/python3.7/site-packages (from matplotlib) (2.8.1)\n",
      "Collecting cycler>=0.10\n",
      "  Using cached cycler-0.10.0-py2.py3-none-any.whl (6.5 kB)\n",
      "Requirement already satisfied: pyparsing!=2.0.4,!=2.1.2,!=2.1.6,>=2.0.3 in /Users/yukihorikawa/anaconda3/envs/web/lib/python3.7/site-packages (from matplotlib) (2.4.7)\n",
      "Requirement already satisfied: numpy>=1.15 in /Users/yukihorikawa/anaconda3/envs/web/lib/python3.7/site-packages (from matplotlib) (1.18.5)\n",
      "Requirement already satisfied: six>=1.5 in /Users/yukihorikawa/anaconda3/envs/web/lib/python3.7/site-packages (from python-dateutil>=2.1->matplotlib) (1.15.0)\n",
      "Installing collected packages: kiwisolver, cycler, matplotlib\n",
      "Successfully installed cycler-0.10.0 kiwisolver-1.2.0 matplotlib-3.3.0\n",
      "Note: you may need to restart the kernel to use updated packages.\n"
     ]
    }
   ],
   "source": [
    "pip install matplotlib"
   ]
  },
  {
   "cell_type": "code",
   "execution_count": 10,
   "metadata": {},
   "outputs": [
    {
     "name": "stdout",
     "output_type": "stream",
     "text": [
      "Collecting keras==2.0.0\n",
      "  Downloading Keras-2.0.0.tar.gz (191 kB)\n",
      "\u001b[K     |████████████████████████████████| 191 kB 1.8 MB/s eta 0:00:01\n",
      "\u001b[?25hRequirement already satisfied: tensorflow in /Users/yukihorikawa/anaconda3/envs/web/lib/python3.7/site-packages (from keras==2.0.0) (2.1.0)\n",
      "Requirement already satisfied: pyyaml in /Users/yukihorikawa/anaconda3/envs/web/lib/python3.7/site-packages (from keras==2.0.0) (5.3.1)\n",
      "Requirement already satisfied: six in /Users/yukihorikawa/anaconda3/envs/web/lib/python3.7/site-packages (from keras==2.0.0) (1.15.0)\n",
      "Requirement already satisfied: scipy==1.4.1; python_version >= \"3\" in /Users/yukihorikawa/anaconda3/envs/web/lib/python3.7/site-packages (from tensorflow->keras==2.0.0) (1.4.1)\n",
      "Requirement already satisfied: tensorboard<2.2.0,>=2.1.0 in /Users/yukihorikawa/anaconda3/envs/web/lib/python3.7/site-packages (from tensorflow->keras==2.0.0) (2.1.1)\n",
      "Requirement already satisfied: grpcio>=1.8.6 in /Users/yukihorikawa/anaconda3/envs/web/lib/python3.7/site-packages (from tensorflow->keras==2.0.0) (1.31.0)\n",
      "Requirement already satisfied: protobuf>=3.8.0 in /Users/yukihorikawa/anaconda3/envs/web/lib/python3.7/site-packages (from tensorflow->keras==2.0.0) (3.12.4)\n",
      "Requirement already satisfied: astor>=0.6.0 in /Users/yukihorikawa/anaconda3/envs/web/lib/python3.7/site-packages (from tensorflow->keras==2.0.0) (0.8.1)\n",
      "Requirement already satisfied: wheel>=0.26; python_version >= \"3\" in /Users/yukihorikawa/anaconda3/envs/web/lib/python3.7/site-packages (from tensorflow->keras==2.0.0) (0.34.2)\n",
      "Requirement already satisfied: wrapt>=1.11.1 in /Users/yukihorikawa/anaconda3/envs/web/lib/python3.7/site-packages (from tensorflow->keras==2.0.0) (1.12.1)\n",
      "Requirement already satisfied: absl-py>=0.7.0 in /Users/yukihorikawa/anaconda3/envs/web/lib/python3.7/site-packages (from tensorflow->keras==2.0.0) (0.9.0)\n",
      "Requirement already satisfied: keras-applications>=1.0.8 in /Users/yukihorikawa/anaconda3/envs/web/lib/python3.7/site-packages (from tensorflow->keras==2.0.0) (1.0.8)\n",
      "Requirement already satisfied: tensorflow-estimator<2.2.0,>=2.1.0rc0 in /Users/yukihorikawa/anaconda3/envs/web/lib/python3.7/site-packages (from tensorflow->keras==2.0.0) (2.1.0)\n",
      "Requirement already satisfied: numpy<2.0,>=1.16.0 in /Users/yukihorikawa/anaconda3/envs/web/lib/python3.7/site-packages (from tensorflow->keras==2.0.0) (1.18.5)\n",
      "Requirement already satisfied: gast==0.2.2 in /Users/yukihorikawa/anaconda3/envs/web/lib/python3.7/site-packages (from tensorflow->keras==2.0.0) (0.2.2)\n",
      "Requirement already satisfied: opt-einsum>=2.3.2 in /Users/yukihorikawa/anaconda3/envs/web/lib/python3.7/site-packages (from tensorflow->keras==2.0.0) (3.3.0)\n",
      "Requirement already satisfied: keras-preprocessing>=1.1.0 in /Users/yukihorikawa/anaconda3/envs/web/lib/python3.7/site-packages (from tensorflow->keras==2.0.0) (1.1.2)\n",
      "Requirement already satisfied: termcolor>=1.1.0 in /Users/yukihorikawa/anaconda3/envs/web/lib/python3.7/site-packages (from tensorflow->keras==2.0.0) (1.1.0)\n",
      "Requirement already satisfied: google-pasta>=0.1.6 in /Users/yukihorikawa/anaconda3/envs/web/lib/python3.7/site-packages (from tensorflow->keras==2.0.0) (0.2.0)\n",
      "Requirement already satisfied: google-auth-oauthlib<0.5,>=0.4.1 in /Users/yukihorikawa/anaconda3/envs/web/lib/python3.7/site-packages (from tensorboard<2.2.0,>=2.1.0->tensorflow->keras==2.0.0) (0.4.1)\n",
      "Requirement already satisfied: werkzeug>=0.11.15 in /Users/yukihorikawa/anaconda3/envs/web/lib/python3.7/site-packages (from tensorboard<2.2.0,>=2.1.0->tensorflow->keras==2.0.0) (1.0.1)\n",
      "Requirement already satisfied: markdown>=2.6.8 in /Users/yukihorikawa/anaconda3/envs/web/lib/python3.7/site-packages (from tensorboard<2.2.0,>=2.1.0->tensorflow->keras==2.0.0) (3.2.2)\n",
      "Requirement already satisfied: requests<3,>=2.21.0 in /Users/yukihorikawa/anaconda3/envs/web/lib/python3.7/site-packages (from tensorboard<2.2.0,>=2.1.0->tensorflow->keras==2.0.0) (2.24.0)\n",
      "Requirement already satisfied: google-auth<2,>=1.6.3 in /Users/yukihorikawa/anaconda3/envs/web/lib/python3.7/site-packages (from tensorboard<2.2.0,>=2.1.0->tensorflow->keras==2.0.0) (1.20.0)\n",
      "Requirement already satisfied: setuptools>=41.0.0 in /Users/yukihorikawa/anaconda3/envs/web/lib/python3.7/site-packages (from tensorboard<2.2.0,>=2.1.0->tensorflow->keras==2.0.0) (49.2.0.post20200714)\n",
      "Requirement already satisfied: h5py in /Users/yukihorikawa/anaconda3/envs/web/lib/python3.7/site-packages (from keras-applications>=1.0.8->tensorflow->keras==2.0.0) (2.10.0)\n",
      "Requirement already satisfied: requests-oauthlib>=0.7.0 in /Users/yukihorikawa/anaconda3/envs/web/lib/python3.7/site-packages (from google-auth-oauthlib<0.5,>=0.4.1->tensorboard<2.2.0,>=2.1.0->tensorflow->keras==2.0.0) (1.3.0)\n",
      "Requirement already satisfied: importlib-metadata; python_version < \"3.8\" in /Users/yukihorikawa/anaconda3/envs/web/lib/python3.7/site-packages (from markdown>=2.6.8->tensorboard<2.2.0,>=2.1.0->tensorflow->keras==2.0.0) (1.7.0)\n",
      "Requirement already satisfied: chardet<4,>=3.0.2 in /Users/yukihorikawa/anaconda3/envs/web/lib/python3.7/site-packages (from requests<3,>=2.21.0->tensorboard<2.2.0,>=2.1.0->tensorflow->keras==2.0.0) (3.0.4)\n",
      "Requirement already satisfied: urllib3!=1.25.0,!=1.25.1,<1.26,>=1.21.1 in /Users/yukihorikawa/anaconda3/envs/web/lib/python3.7/site-packages (from requests<3,>=2.21.0->tensorboard<2.2.0,>=2.1.0->tensorflow->keras==2.0.0) (1.25.10)\n",
      "Requirement already satisfied: idna<3,>=2.5 in /Users/yukihorikawa/anaconda3/envs/web/lib/python3.7/site-packages (from requests<3,>=2.21.0->tensorboard<2.2.0,>=2.1.0->tensorflow->keras==2.0.0) (2.10)\n",
      "Requirement already satisfied: certifi>=2017.4.17 in /Users/yukihorikawa/anaconda3/envs/web/lib/python3.7/site-packages (from requests<3,>=2.21.0->tensorboard<2.2.0,>=2.1.0->tensorflow->keras==2.0.0) (2020.6.20)\n",
      "Requirement already satisfied: rsa<5,>=3.1.4; python_version >= \"3.5\" in /Users/yukihorikawa/anaconda3/envs/web/lib/python3.7/site-packages (from google-auth<2,>=1.6.3->tensorboard<2.2.0,>=2.1.0->tensorflow->keras==2.0.0) (4.6)\n",
      "Requirement already satisfied: cachetools<5.0,>=2.0.0 in /Users/yukihorikawa/anaconda3/envs/web/lib/python3.7/site-packages (from google-auth<2,>=1.6.3->tensorboard<2.2.0,>=2.1.0->tensorflow->keras==2.0.0) (4.1.1)\n",
      "Requirement already satisfied: pyasn1-modules>=0.2.1 in /Users/yukihorikawa/anaconda3/envs/web/lib/python3.7/site-packages (from google-auth<2,>=1.6.3->tensorboard<2.2.0,>=2.1.0->tensorflow->keras==2.0.0) (0.2.8)\n",
      "Requirement already satisfied: oauthlib>=3.0.0 in /Users/yukihorikawa/anaconda3/envs/web/lib/python3.7/site-packages (from requests-oauthlib>=0.7.0->google-auth-oauthlib<0.5,>=0.4.1->tensorboard<2.2.0,>=2.1.0->tensorflow->keras==2.0.0) (3.1.0)\n",
      "Requirement already satisfied: zipp>=0.5 in /Users/yukihorikawa/anaconda3/envs/web/lib/python3.7/site-packages (from importlib-metadata; python_version < \"3.8\"->markdown>=2.6.8->tensorboard<2.2.0,>=2.1.0->tensorflow->keras==2.0.0) (3.1.0)\n",
      "Requirement already satisfied: pyasn1>=0.1.3 in /Users/yukihorikawa/anaconda3/envs/web/lib/python3.7/site-packages (from rsa<5,>=3.1.4; python_version >= \"3.5\"->google-auth<2,>=1.6.3->tensorboard<2.2.0,>=2.1.0->tensorflow->keras==2.0.0) (0.4.8)\n",
      "Building wheels for collected packages: keras\n",
      "  Building wheel for keras (setup.py) ... \u001b[?25ldone\n",
      "\u001b[?25h  Created wheel for keras: filename=Keras-2.0.0-py3-none-any.whl size=227985 sha256=d41a59ffb0c2b5de0957c7a154dcbb7685d5c27755010107506b8f89cc436d0c\n",
      "  Stored in directory: /Users/yukihorikawa/Library/Caches/pip/wheels/36/1a/f7/d34a44e2fa0c03377e24bae68eacaeb12ea66fb3d297612612\n",
      "Successfully built keras\n",
      "Installing collected packages: keras\n",
      "  Attempting uninstall: keras\n",
      "    Found existing installation: Keras 2.4.3\n",
      "    Uninstalling Keras-2.4.3:\n",
      "      Successfully uninstalled Keras-2.4.3\n",
      "Successfully installed keras-2.0.0\n",
      "Note: you may need to restart the kernel to use updated packages.\n"
     ]
    }
   ],
   "source": [
    "pip install keras==2.0.0"
   ]
  },
  {
   "cell_type": "code",
   "execution_count": 11,
   "metadata": {},
   "outputs": [
    {
     "name": "stdout",
     "output_type": "stream",
     "text": [
      "Collecting tensorflow==2.0.0\n",
      "  Downloading tensorflow-2.0.0-cp37-cp37m-macosx_10_11_x86_64.whl (102.7 MB)\n",
      "\u001b[K     |████████████████████████████████| 102.7 MB 49.6 MB/s eta 0:00:01\n",
      "\u001b[?25hRequirement already satisfied: keras-applications>=1.0.8 in /Users/yukihorikawa/anaconda3/envs/web/lib/python3.7/site-packages (from tensorflow==2.0.0) (1.0.8)\n",
      "Requirement already satisfied: numpy<2.0,>=1.16.0 in /Users/yukihorikawa/anaconda3/envs/web/lib/python3.7/site-packages (from tensorflow==2.0.0) (1.18.5)\n",
      "Requirement already satisfied: grpcio>=1.8.6 in /Users/yukihorikawa/anaconda3/envs/web/lib/python3.7/site-packages (from tensorflow==2.0.0) (1.31.0)\n",
      "Requirement already satisfied: gast==0.2.2 in /Users/yukihorikawa/anaconda3/envs/web/lib/python3.7/site-packages (from tensorflow==2.0.0) (0.2.2)\n",
      "Collecting tensorflow-estimator<2.1.0,>=2.0.0\n",
      "  Downloading tensorflow_estimator-2.0.1-py2.py3-none-any.whl (449 kB)\n",
      "\u001b[K     |████████████████████████████████| 449 kB 13.6 MB/s eta 0:00:01\n",
      "\u001b[?25hRequirement already satisfied: wheel>=0.26 in /Users/yukihorikawa/anaconda3/envs/web/lib/python3.7/site-packages (from tensorflow==2.0.0) (0.34.2)\n",
      "Collecting tensorboard<2.1.0,>=2.0.0\n",
      "  Downloading tensorboard-2.0.2-py3-none-any.whl (3.8 MB)\n",
      "\u001b[K     |████████████████████████████████| 3.8 MB 50.5 MB/s eta 0:00:01\n",
      "\u001b[?25hRequirement already satisfied: keras-preprocessing>=1.0.5 in /Users/yukihorikawa/anaconda3/envs/web/lib/python3.7/site-packages (from tensorflow==2.0.0) (1.1.2)\n",
      "Requirement already satisfied: termcolor>=1.1.0 in /Users/yukihorikawa/anaconda3/envs/web/lib/python3.7/site-packages (from tensorflow==2.0.0) (1.1.0)\n",
      "Requirement already satisfied: astor>=0.6.0 in /Users/yukihorikawa/anaconda3/envs/web/lib/python3.7/site-packages (from tensorflow==2.0.0) (0.8.1)\n",
      "Requirement already satisfied: protobuf>=3.6.1 in /Users/yukihorikawa/anaconda3/envs/web/lib/python3.7/site-packages (from tensorflow==2.0.0) (3.12.4)\n",
      "Requirement already satisfied: opt-einsum>=2.3.2 in /Users/yukihorikawa/anaconda3/envs/web/lib/python3.7/site-packages (from tensorflow==2.0.0) (3.3.0)\n",
      "Requirement already satisfied: google-pasta>=0.1.6 in /Users/yukihorikawa/anaconda3/envs/web/lib/python3.7/site-packages (from tensorflow==2.0.0) (0.2.0)\n",
      "Requirement already satisfied: absl-py>=0.7.0 in /Users/yukihorikawa/anaconda3/envs/web/lib/python3.7/site-packages (from tensorflow==2.0.0) (0.9.0)\n",
      "Requirement already satisfied: six>=1.10.0 in /Users/yukihorikawa/anaconda3/envs/web/lib/python3.7/site-packages (from tensorflow==2.0.0) (1.15.0)\n",
      "Requirement already satisfied: wrapt>=1.11.1 in /Users/yukihorikawa/anaconda3/envs/web/lib/python3.7/site-packages (from tensorflow==2.0.0) (1.12.1)\n",
      "Requirement already satisfied: h5py in /Users/yukihorikawa/anaconda3/envs/web/lib/python3.7/site-packages (from keras-applications>=1.0.8->tensorflow==2.0.0) (2.10.0)\n",
      "Requirement already satisfied: google-auth<2,>=1.6.3 in /Users/yukihorikawa/anaconda3/envs/web/lib/python3.7/site-packages (from tensorboard<2.1.0,>=2.0.0->tensorflow==2.0.0) (1.20.0)\n",
      "Requirement already satisfied: requests<3,>=2.21.0 in /Users/yukihorikawa/anaconda3/envs/web/lib/python3.7/site-packages (from tensorboard<2.1.0,>=2.0.0->tensorflow==2.0.0) (2.24.0)\n",
      "Requirement already satisfied: markdown>=2.6.8 in /Users/yukihorikawa/anaconda3/envs/web/lib/python3.7/site-packages (from tensorboard<2.1.0,>=2.0.0->tensorflow==2.0.0) (3.2.2)\n",
      "Requirement already satisfied: google-auth-oauthlib<0.5,>=0.4.1 in /Users/yukihorikawa/anaconda3/envs/web/lib/python3.7/site-packages (from tensorboard<2.1.0,>=2.0.0->tensorflow==2.0.0) (0.4.1)\n",
      "Requirement already satisfied: setuptools>=41.0.0 in /Users/yukihorikawa/anaconda3/envs/web/lib/python3.7/site-packages (from tensorboard<2.1.0,>=2.0.0->tensorflow==2.0.0) (49.2.0.post20200714)\n",
      "Requirement already satisfied: werkzeug>=0.11.15 in /Users/yukihorikawa/anaconda3/envs/web/lib/python3.7/site-packages (from tensorboard<2.1.0,>=2.0.0->tensorflow==2.0.0) (1.0.1)\n",
      "Requirement already satisfied: rsa<5,>=3.1.4; python_version >= \"3.5\" in /Users/yukihorikawa/anaconda3/envs/web/lib/python3.7/site-packages (from google-auth<2,>=1.6.3->tensorboard<2.1.0,>=2.0.0->tensorflow==2.0.0) (4.6)\n",
      "Requirement already satisfied: cachetools<5.0,>=2.0.0 in /Users/yukihorikawa/anaconda3/envs/web/lib/python3.7/site-packages (from google-auth<2,>=1.6.3->tensorboard<2.1.0,>=2.0.0->tensorflow==2.0.0) (4.1.1)\n",
      "Requirement already satisfied: pyasn1-modules>=0.2.1 in /Users/yukihorikawa/anaconda3/envs/web/lib/python3.7/site-packages (from google-auth<2,>=1.6.3->tensorboard<2.1.0,>=2.0.0->tensorflow==2.0.0) (0.2.8)\n",
      "Requirement already satisfied: certifi>=2017.4.17 in /Users/yukihorikawa/anaconda3/envs/web/lib/python3.7/site-packages (from requests<3,>=2.21.0->tensorboard<2.1.0,>=2.0.0->tensorflow==2.0.0) (2020.6.20)\n",
      "Requirement already satisfied: idna<3,>=2.5 in /Users/yukihorikawa/anaconda3/envs/web/lib/python3.7/site-packages (from requests<3,>=2.21.0->tensorboard<2.1.0,>=2.0.0->tensorflow==2.0.0) (2.10)\n",
      "Requirement already satisfied: urllib3!=1.25.0,!=1.25.1,<1.26,>=1.21.1 in /Users/yukihorikawa/anaconda3/envs/web/lib/python3.7/site-packages (from requests<3,>=2.21.0->tensorboard<2.1.0,>=2.0.0->tensorflow==2.0.0) (1.25.10)\n",
      "Requirement already satisfied: chardet<4,>=3.0.2 in /Users/yukihorikawa/anaconda3/envs/web/lib/python3.7/site-packages (from requests<3,>=2.21.0->tensorboard<2.1.0,>=2.0.0->tensorflow==2.0.0) (3.0.4)\n",
      "Requirement already satisfied: importlib-metadata; python_version < \"3.8\" in /Users/yukihorikawa/anaconda3/envs/web/lib/python3.7/site-packages (from markdown>=2.6.8->tensorboard<2.1.0,>=2.0.0->tensorflow==2.0.0) (1.7.0)\n",
      "Requirement already satisfied: requests-oauthlib>=0.7.0 in /Users/yukihorikawa/anaconda3/envs/web/lib/python3.7/site-packages (from google-auth-oauthlib<0.5,>=0.4.1->tensorboard<2.1.0,>=2.0.0->tensorflow==2.0.0) (1.3.0)\n",
      "Requirement already satisfied: pyasn1>=0.1.3 in /Users/yukihorikawa/anaconda3/envs/web/lib/python3.7/site-packages (from rsa<5,>=3.1.4; python_version >= \"3.5\"->google-auth<2,>=1.6.3->tensorboard<2.1.0,>=2.0.0->tensorflow==2.0.0) (0.4.8)\n",
      "Requirement already satisfied: zipp>=0.5 in /Users/yukihorikawa/anaconda3/envs/web/lib/python3.7/site-packages (from importlib-metadata; python_version < \"3.8\"->markdown>=2.6.8->tensorboard<2.1.0,>=2.0.0->tensorflow==2.0.0) (3.1.0)\n",
      "Requirement already satisfied: oauthlib>=3.0.0 in /Users/yukihorikawa/anaconda3/envs/web/lib/python3.7/site-packages (from requests-oauthlib>=0.7.0->google-auth-oauthlib<0.5,>=0.4.1->tensorboard<2.1.0,>=2.0.0->tensorflow==2.0.0) (3.1.0)\n",
      "Installing collected packages: tensorflow-estimator, tensorboard, tensorflow\n",
      "  Attempting uninstall: tensorflow-estimator\n",
      "    Found existing installation: tensorflow-estimator 2.1.0\n",
      "    Uninstalling tensorflow-estimator-2.1.0:\n",
      "      Successfully uninstalled tensorflow-estimator-2.1.0\n",
      "  Attempting uninstall: tensorboard\n",
      "    Found existing installation: tensorboard 2.1.1\n",
      "    Uninstalling tensorboard-2.1.1:\n",
      "      Successfully uninstalled tensorboard-2.1.1\n",
      "  Attempting uninstall: tensorflow\n",
      "    Found existing installation: tensorflow 2.1.0\n",
      "    Uninstalling tensorflow-2.1.0:\n",
      "      Successfully uninstalled tensorflow-2.1.0\n",
      "Successfully installed tensorboard-2.0.2 tensorflow-2.0.0 tensorflow-estimator-2.0.1\n",
      "Note: you may need to restart the kernel to use updated packages.\n"
     ]
    }
   ],
   "source": [
    "pip install tensorflow==2.0.0"
   ]
  },
  {
   "cell_type": "code",
   "execution_count": 14,
   "metadata": {},
   "outputs": [
    {
     "name": "stdout",
     "output_type": "stream",
     "text": [
      "Model: \"sequential_2\"\n",
      "_________________________________________________________________\n",
      "Layer (type)                 Output Shape              Param #   \n",
      "=================================================================\n",
      "sequential_1 (Sequential)    (None, 100)               2330564   \n",
      "_________________________________________________________________\n",
      "sequential_2 (Sequential)    (None, 128, 128, 3)       2411107   \n",
      "=================================================================\n",
      "Total params: 4,741,671\n",
      "Trainable params: 4,707,495\n",
      "Non-trainable params: 34,176\n",
      "_________________________________________________________________\n"
     ]
    },
    {
     "ename": "AttributeError",
     "evalue": "module 'tensorflow' has no attribute 'get_default_graph'",
     "output_type": "error",
     "traceback": [
      "\u001b[0;31m---------------------------------------------------------------------------\u001b[0m",
      "\u001b[0;31mAttributeError\u001b[0m                            Traceback (most recent call last)",
      "\u001b[0;32m<ipython-input-14-9d2b69922c39>\u001b[0m in \u001b[0;36m<module>\u001b[0;34m\u001b[0m\n\u001b[1;32m     30\u001b[0m \u001b[0mautoencoder\u001b[0m \u001b[0;34m=\u001b[0m \u001b[0mautoencoder_model\u001b[0m\u001b[0;34m(\u001b[0m\u001b[0mencoder\u001b[0m\u001b[0;34m,\u001b[0m \u001b[0mdecoder\u001b[0m\u001b[0;34m)\u001b[0m\u001b[0;34m\u001b[0m\u001b[0;34m\u001b[0m\u001b[0m\n\u001b[1;32m     31\u001b[0m \u001b[0mautoencoder\u001b[0m\u001b[0;34m.\u001b[0m\u001b[0msummary\u001b[0m\u001b[0;34m(\u001b[0m\u001b[0;34m)\u001b[0m\u001b[0;34m\u001b[0m\u001b[0;34m\u001b[0m\u001b[0m\n\u001b[0;32m---> 32\u001b[0;31m \u001b[0mgraph\u001b[0m \u001b[0;34m=\u001b[0m \u001b[0mtf\u001b[0m\u001b[0;34m.\u001b[0m\u001b[0mget_default_graph\u001b[0m\u001b[0;34m(\u001b[0m\u001b[0;34m)\u001b[0m\u001b[0;34m\u001b[0m\u001b[0;34m\u001b[0m\u001b[0m\n\u001b[0m\u001b[1;32m     33\u001b[0m \u001b[0;34m\u001b[0m\u001b[0m\n\u001b[1;32m     34\u001b[0m \u001b[0minput_dir\u001b[0m \u001b[0;34m=\u001b[0m \u001b[0;34m'py/output/'\u001b[0m\u001b[0;34m\u001b[0m\u001b[0;34m\u001b[0m\u001b[0m\n",
      "\u001b[0;31mAttributeError\u001b[0m: module 'tensorflow' has no attribute 'get_default_graph'"
     ]
    }
   ],
   "source": [
    "#-------------------------------Resize-------------------------------\n",
    "import os\n",
    "import numpy as np\n",
    "from PIL import Image\n",
    "import matplotlib.pyplot as plt\n",
    "import tensorflow as tf\n",
    "from tensorflow import keras\n",
    "from tensorflow.keras import backend as k\n",
    "\n",
    "from tensorflow.keras.models import Sequential, load_model\n",
    "# from tensorflow.keras import backend\n",
    "from tensorflow.keras import backend as k\n",
    "\n",
    "#AttributeError: ‘_thread._local’ object has no attribute ‘value’の解決策以下\n",
    "# import keras.backend.tensorflow_backend as tb\n",
    "# tb._SYMBOLIC_SCOPE.value = True\n",
    "#-------------------------------学習modelのロード-------------------------------\n",
    "# model and backend graph must be created on global\n",
    "import tensorflow.keras.models\n",
    "global model, graph\n",
    "\n",
    "def autoencoder_model(encoder, decoder):\n",
    "    model = Sequential()\n",
    "    model.add(encoder)\n",
    "    model.add(decoder)\n",
    "    return model\n",
    "#学習済みモデルの読込モデルを実行したいだけであれば、compile=False\n",
    "encoder=load_model('py/AE_para/encoder_250.h5', compile=False)\n",
    "decoder=load_model('py/AE_para/decoder_250.h5', compile=False)\n",
    "autoencoder = autoencoder_model(encoder, decoder)\n",
    "autoencoder.summary()\n",
    "graph = tf.get_default_graph()\n",
    "\n",
    "input_dir = 'py/output/'\n",
    "pred_dir = 'py/pred/'\n",
    "\n",
    "def gan_image(img_name):\n",
    "    file_name = input_dir + img_name + '.JPG'\n",
    "    img = Image.open(file_name).convert(\"RGB\"); img.close\n",
    "    img = np.array(img)\n",
    "    img = (img - 127.5) / 127.5\n",
    "    img = img[np.newaxis, ...]\n",
    "    pred = autoencoder.predict(img)\n",
    "    # pred = np.squeeze(pred)\n",
    "    with graph.as_default(): # use the global graph\n",
    "        pred = autoencoder.predict(img)\n",
    "    img = Image.fromarray(np.uint8(pred * 127.5 + 127.5))\n",
    "    file_name = pred_dir + img_name + '.JPG' \n",
    "    img.save(file_name)\n",
    "    print('finidh gan')"
   ]
  },
  {
   "cell_type": "code",
   "execution_count": 23,
   "metadata": {},
   "outputs": [
    {
     "name": "stdout",
     "output_type": "stream",
     "text": [
      "Model: \"sequential\"\n",
      "_________________________________________________________________\n",
      "Layer (type)                 Output Shape              Param #   \n",
      "=================================================================\n",
      "sequential_1 (Sequential)    (None, 100)               2330564   \n",
      "_________________________________________________________________\n",
      "sequential_2 (Sequential)    (None, 128, 128, 3)       2411107   \n",
      "=================================================================\n",
      "Total params: 4,741,671\n",
      "Trainable params: 4,707,495\n",
      "Non-trainable params: 34,176\n",
      "_________________________________________________________________\n"
     ]
    },
    {
     "ename": "AttributeError",
     "evalue": "module 'tensorflow' has no attribute 'get_default_graph'",
     "output_type": "error",
     "traceback": [
      "\u001b[0;31m---------------------------------------------------------------------------\u001b[0m",
      "\u001b[0;31mAttributeError\u001b[0m                            Traceback (most recent call last)",
      "\u001b[0;32m<ipython-input-23-854a8ff42a41>\u001b[0m in \u001b[0;36m<module>\u001b[0;34m\u001b[0m\n\u001b[1;32m     37\u001b[0m \u001b[0mautoencoder\u001b[0m \u001b[0;34m=\u001b[0m \u001b[0mautoencoder_model\u001b[0m\u001b[0;34m(\u001b[0m\u001b[0mencoder\u001b[0m\u001b[0;34m,\u001b[0m \u001b[0mdecoder\u001b[0m\u001b[0;34m)\u001b[0m\u001b[0;34m\u001b[0m\u001b[0;34m\u001b[0m\u001b[0m\n\u001b[1;32m     38\u001b[0m \u001b[0mautoencoder\u001b[0m\u001b[0;34m.\u001b[0m\u001b[0msummary\u001b[0m\u001b[0;34m(\u001b[0m\u001b[0;34m)\u001b[0m\u001b[0;34m\u001b[0m\u001b[0;34m\u001b[0m\u001b[0m\n\u001b[0;32m---> 39\u001b[0;31m \u001b[0mgraph\u001b[0m \u001b[0;34m=\u001b[0m \u001b[0mtf\u001b[0m\u001b[0;34m.\u001b[0m\u001b[0mget_default_graph\u001b[0m\u001b[0;34m(\u001b[0m\u001b[0;34m)\u001b[0m\u001b[0;34m\u001b[0m\u001b[0;34m\u001b[0m\u001b[0m\n\u001b[0m\u001b[1;32m     40\u001b[0m \u001b[0;34m\u001b[0m\u001b[0m\n\u001b[1;32m     41\u001b[0m \u001b[0minput_dir\u001b[0m \u001b[0;34m=\u001b[0m \u001b[0;34m'py/output/'\u001b[0m\u001b[0;34m\u001b[0m\u001b[0;34m\u001b[0m\u001b[0m\n",
      "\u001b[0;31mAttributeError\u001b[0m: module 'tensorflow' has no attribute 'get_default_graph'"
     ]
    }
   ],
   "source": [
    "#-------------------------------Resize-------------------------------\n",
    "import os\n",
    "import numpy as np\n",
    "from PIL import Image\n",
    "import matplotlib.pyplot as plt\n",
    "import tensorflow as tf\n",
    "from tensorflow import keras\n",
    "from tensorflow.keras import backend as k\n",
    "\n",
    "from tensorflow.keras.models import Sequential, load_model\n",
    "# from tensorflow.keras import backend\n",
    "\n",
    "\n",
    "#AttributeError: ‘_thread._local’ object has no attribute ‘value’の解決策以下\n",
    "# import keras.backend.tensorflow_backend as tb\n",
    "# tb._SYMBOLIC_SCOPE.value = True\n",
    "#-------------------------------学習modelのロード-------------------------------\n",
    "# model and backend graph must be created on global\n",
    "\n",
    "#AttributeError: ‘_thread._local’ object has no attribute ‘value’の解決策以下\n",
    "import tensorflow as tf\n",
    "# sess = tf.compat.v1.Session(graph=tf.import_graph_def(), config=session_conf)\n",
    "# sess = tf.compat.v1.Session(graph=tf.compat.v1.get_default_graph(), config=session_conf)\n",
    "\n",
    "# tf.compat.v1.keras.backend.set_session(sess)\n",
    "\n",
    "global model, graph\n",
    "k.clear_session()\n",
    "\n",
    "def autoencoder_model(encoder, decoder):\n",
    "    model = Sequential()\n",
    "    model.add(encoder)\n",
    "    model.add(decoder)\n",
    "    return model\n",
    "#学習済みモデルの読込モデルを実行したいだけであれば、compile=False\n",
    "encoder=load_model('py/AE_para/encoder_250.h5', compile=False)\n",
    "decoder=load_model('py/AE_para/decoder_250.h5', compile=False)\n",
    "autoencoder = autoencoder_model(encoder, decoder)\n",
    "autoencoder.summary()\n",
    "graph = tf.get_default_graph()\n",
    "\n",
    "input_dir = 'py/output/'\n",
    "pred_dir = 'py/pred/'\n",
    "\n",
    "def gan_image(img_name):\n",
    "    file_name = input_dir + img_name + '.JPG'\n",
    "    img = Image.open(file_name).convert(\"RGB\"); img.close\n",
    "    img = np.array(img)\n",
    "    img = (img - 127.5) / 127.5\n",
    "    img = img[np.newaxis, ...]\n",
    "    pred = autoencoder.predict(img)\n",
    "    # pred = np.squeeze(pred)\n",
    "    with graph.as_default(): # use the global graph\n",
    "        pred = autoencoder.predict(img)\n",
    "    img = Image.fromarray(np.uint8(pred * 127.5 + 127.5))\n",
    "    file_name = pred_dir + img_name + '.JPG' \n",
    "    img.save(file_name)\n",
    "    print('finidh gan')"
   ]
  },
  {
   "cell_type": "code",
   "execution_count": 19,
   "metadata": {},
   "outputs": [
    {
     "name": "stdout",
     "output_type": "stream",
     "text": [
      "absl-py==0.9.0\n",
      "appnope==0.1.0\n",
      "astor==0.8.1\n",
      "astroid==2.4.2\n",
      "astunparse==1.6.3\n",
      "attrs==19.3.0\n",
      "backcall==0.2.0\n",
      "bleach==3.1.5\n",
      "cachetools==4.1.1\n",
      "certifi==2020.6.20\n",
      "chardet==3.0.4\n",
      "click==7.1.2\n",
      "cycler==0.10.0\n",
      "decorator==4.4.2\n",
      "defusedxml==0.6.0\n",
      "entrypoints==0.3\n",
      "Flask==1.1.2\n",
      "gast==0.2.2\n",
      "google-auth==1.20.0\n",
      "google-auth-oauthlib==0.4.1\n",
      "google-pasta==0.2.0\n",
      "grpcio==1.31.0\n",
      "h5py==2.10.0\n",
      "idna==2.10\n",
      "importlib-metadata @ file:///opt/concourse/worker/volumes/live/84197498-cbc0-4436-7ce0-03c4490b7a28/volume/importlib-metadata_1593446431408/work\n",
      "ipykernel @ file:///opt/concourse/worker/volumes/live/73e8766c-12c3-4f76-62a6-3dea9a7da5b7/volume/ipykernel_1596206701501/work/dist/ipykernel-5.3.4-py3-none-any.whl\n",
      "ipython @ file:///opt/concourse/worker/volumes/live/7ea70a71-5624-4799-50b3-3b90e07922f3/volume/ipython_1593447385860/work\n",
      "ipython-genutils==0.2.0\n",
      "isort==4.3.21\n",
      "itsdangerous==1.1.0\n",
      "jedi @ file:///opt/concourse/worker/volumes/live/114a62c0-dd60-4a40-6382-85abb31b5f6e/volume/jedi_1592841953086/work\n",
      "Jinja2==2.11.2\n",
      "jsonschema==3.2.0\n",
      "jupyter-client @ file:///tmp/build/80754af9/jupyter_client_1594826976318/work\n",
      "jupyter-core==4.6.3\n",
      "Keras==2.0.0\n",
      "Keras-Applications==1.0.8\n",
      "Keras-Preprocessing==1.1.2\n",
      "kiwisolver==1.2.0\n",
      "lazy-object-proxy==1.4.3\n",
      "Markdown==3.2.2\n",
      "MarkupSafe==1.1.1\n",
      "matplotlib==3.3.0\n",
      "mccabe==0.6.1\n",
      "mistune==0.8.4\n",
      "nbconvert==5.6.1\n",
      "nbformat==5.0.7\n",
      "notebook==6.0.3\n",
      "numpy==1.18.5\n",
      "oauthlib==3.1.0\n",
      "opencv-python==4.3.0.36\n",
      "opt-einsum==3.3.0\n",
      "packaging==20.4\n",
      "pandocfilters==1.4.2\n",
      "parso==0.7.0\n",
      "pexpect==4.8.0\n",
      "pickleshare==0.7.5\n",
      "Pillow==7.2.0\n",
      "prometheus-client==0.8.0\n",
      "prompt-toolkit==3.0.5\n",
      "protobuf==3.12.4\n",
      "ptyprocess==0.6.0\n",
      "pyasn1==0.4.8\n",
      "pyasn1-modules==0.2.8\n",
      "Pygments==2.6.1\n",
      "pylint==2.5.3\n",
      "pyparsing==2.4.7\n",
      "pyrsistent==0.16.0\n",
      "python-dateutil==2.8.1\n",
      "PyYAML==5.3.1\n",
      "pyzmq==19.0.1\n",
      "requests==2.24.0\n",
      "requests-oauthlib==1.3.0\n",
      "rsa==4.6\n",
      "scipy==1.4.1\n",
      "Send2Trash==1.5.0\n",
      "six==1.15.0\n",
      "tensorboard==2.0.2\n",
      "tensorboard-plugin-wit==1.7.0\n",
      "tensorflow==2.0.0\n",
      "tensorflow-estimator==2.0.1\n",
      "termcolor==1.1.0\n",
      "terminado==0.8.3\n",
      "testpath==0.4.4\n",
      "toml==0.10.1\n",
      "tornado==6.0.4\n",
      "traitlets==4.3.3\n",
      "typed-ast==1.4.1\n",
      "urllib3==1.25.10\n",
      "wcwidth @ file:///tmp/build/80754af9/wcwidth_1593447189090/work\n",
      "webencodings==0.5.1\n",
      "Werkzeug==1.0.1\n",
      "wrapt==1.12.1\n",
      "zipp==3.1.0\n",
      "Note: you may need to restart the kernel to use updated packages.\n"
     ]
    }
   ],
   "source": [
    "pip freeze"
   ]
  },
  {
   "cell_type": "code",
   "execution_count": null,
   "metadata": {},
   "outputs": [],
   "source": [
    "tensorflow==2.0.0\n",
    "Keras==2.3.0"
   ]
  },
  {
   "cell_type": "code",
   "execution_count": 24,
   "metadata": {},
   "outputs": [
    {
     "name": "stdout",
     "output_type": "stream",
     "text": [
      "Collecting keras==2.3.0\n",
      "  Using cached Keras-2.3.0-py2.py3-none-any.whl (377 kB)\n",
      "Requirement already satisfied: scipy>=0.14 in /Users/yukihorikawa/anaconda3/envs/web/lib/python3.7/site-packages (from keras==2.3.0) (1.4.1)\n",
      "Requirement already satisfied: pyyaml in /Users/yukihorikawa/anaconda3/envs/web/lib/python3.7/site-packages (from keras==2.3.0) (5.3.1)\n",
      "Requirement already satisfied: keras-preprocessing>=1.0.5 in /Users/yukihorikawa/anaconda3/envs/web/lib/python3.7/site-packages (from keras==2.3.0) (1.1.2)\n",
      "Requirement already satisfied: numpy>=1.9.1 in /Users/yukihorikawa/anaconda3/envs/web/lib/python3.7/site-packages (from keras==2.3.0) (1.18.5)\n",
      "Requirement already satisfied: keras-applications>=1.0.6 in /Users/yukihorikawa/anaconda3/envs/web/lib/python3.7/site-packages (from keras==2.3.0) (1.0.8)\n",
      "Requirement already satisfied: h5py in /Users/yukihorikawa/anaconda3/envs/web/lib/python3.7/site-packages (from keras==2.3.0) (2.10.0)\n",
      "Requirement already satisfied: six>=1.9.0 in /Users/yukihorikawa/anaconda3/envs/web/lib/python3.7/site-packages (from keras==2.3.0) (1.15.0)\n",
      "Installing collected packages: keras\n",
      "  Attempting uninstall: keras\n",
      "    Found existing installation: Keras 2.0.0\n",
      "    Uninstalling Keras-2.0.0:\n",
      "      Successfully uninstalled Keras-2.0.0\n",
      "Successfully installed keras-2.3.0\n",
      "Note: you may need to restart the kernel to use updated packages.\n"
     ]
    }
   ],
   "source": [
    "pip install keras==2.3.0"
   ]
  },
  {
   "cell_type": "code",
   "execution_count": null,
   "metadata": {},
   "outputs": [],
   "source": []
  },
  {
   "cell_type": "code",
   "execution_count": null,
   "metadata": {},
   "outputs": [],
   "source": []
  }
 ],
 "metadata": {
  "kernelspec": {
   "display_name": "Python 3",
   "language": "python",
   "name": "python3"
  },
  "language_info": {
   "codemirror_mode": {
    "name": "ipython",
    "version": 3
   },
   "file_extension": ".py",
   "mimetype": "text/x-python",
   "name": "python",
   "nbconvert_exporter": "python",
   "pygments_lexer": "ipython3",
   "version": "3.7.7"
  }
 },
 "nbformat": 4,
 "nbformat_minor": 4
}
